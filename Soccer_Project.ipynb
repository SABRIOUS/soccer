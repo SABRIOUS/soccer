{
 "cells": [
  {
   "cell_type": "markdown",
   "id": "4768af66",
   "metadata": {},
   "source": [
    "# Investigate  - European Soccer Database\n"
   ]
  },
  {
   "cell_type": "markdown",
   "id": "e62d78d9",
   "metadata": {},
   "source": [
    "## Table of Contents\n",
    "<ul>\n",
    "<li><a href=\"#intro\">Introduction</a></li>\n",
    "<li><a href=\"#wrangling\">Data Wrangling</a></li>\n",
    "<li><a href=\"#eda\">Exploratory Data Analysis</a></li>\n",
    "<li><a href=\"#conclusions\">Conclusions</a></li>\n",
    "</ul>"
   ]
  },
  {
   "cell_type": "markdown",
   "id": "0df61237",
   "metadata": {},
   "source": [
    "<a id='intro'></a>\n",
    "## Introduction\n",
    "\n",
    "### Dataset Description \n",
    "\n",
    "> This data set contains European Soccer Database \n",
    "for season 2008 to 2016, you can download the data from [here](https://www.kaggle.com/hugomathien/soccer). \n",
    "\n",
    "- +25,000 matches\n",
    "- +10,000 players\n",
    "- 11 European Countries with their lead championship\n",
    "- Seasons 2008 to 2016\n",
    "- Players and Teams' attributes* sourced from EA Sports' FIFA video game series, - including the weekly updates\n",
    "- Team line up with squad formation (X, Y coordinates)\n",
    "- Betting odds from up to 10 providers\n",
    "- Detailed match events (goal types, possession, corner, cross, fouls, cards - etc…) for +10,000 matches\n",
    "\n",
    "---------------------"
   ]
  },
  {
   "cell_type": "code",
   "execution_count": 1,
   "id": "397056c4",
   "metadata": {},
   "outputs": [],
   "source": [
    "# import important library\n",
    "import numpy as np\n",
    "import pandas as pd\n",
    "import matplotlib.pyplot as plt\n",
    "import seaborn as sns\n",
    "%matplotlib inline \n",
    "plt.style.use('ggplot')"
   ]
  },
  {
   "cell_type": "markdown",
   "id": "101502b7",
   "metadata": {},
   "source": [
    "#### Upload all (7) data sets "
   ]
  },
  {
   "cell_type": "code",
   "execution_count": 2,
   "id": "86ba08e9",
   "metadata": {},
   "outputs": [],
   "source": [
    "# read all data using pandas\n",
    "df1_country = pd.read_csv(\"Country.csv\")\n",
    "df2_league = pd.read_csv(\"League.csv\")\n",
    "df3_match = pd.read_csv(\"Match.csv\")\n",
    "df4_player = pd.read_csv(\"Player.csv\")\n",
    "df5_player_att = pd.read_csv(\"Player_Attributes.csv\")\n",
    "df6_team = pd.read_csv(\"Team.csv\")\n",
    "df7_team_att = pd.read_csv(\"Team_Attributes.csv\")\n"
   ]
  },
  {
   "cell_type": "markdown",
   "id": "192eb76c",
   "metadata": {},
   "source": [
    "## Process [1]  Understand each table\n",
    "- Show sample table for each dataset.\n",
    "- Number of samples in each dataset.\n",
    "- Number of columns in each dataset.\n",
    "- Count duplicate rows in each dataset.\n",
    "- Datatypes of columns.\n",
    "- Count of missing values.\n",
    "- Number of unique values for features in each dataset.\n"
   ]
  },
  {
   "cell_type": "markdown",
   "id": "e7da6b03",
   "metadata": {},
   "source": [
    "### Explore Tables \n",
    "- Using these methods ( head, shape, info, duplicated, isnull, nunique)\n"
   ]
  },
  {
   "cell_type": "code",
   "execution_count": 3,
   "id": "f49a3a46",
   "metadata": {},
   "outputs": [],
   "source": [
    "# make a function that takes a dataframe, the name and returns ( head, shape, info, duplicated, isnull, nunique)\n",
    "\n",
    "def get_info(data,name):\n",
    "    print(\"\\n-----------------------------------------------------\")\n",
    "    print(\"The table of>>>\",name)\n",
    "    print(data.head(2))\n",
    "    print(\"\\n---------------------------------------------------\\n\")\n",
    "    print(\"Rows and columns>>>\")\n",
    "    print(data.shape)\n",
    "    print(\"\\n---------------------------------------------------\\n\")\n",
    "    print(\"Data types of the data>>>\")\n",
    "    print(data.info())\n",
    "    print(\"\\n---------------------------------------------------\\n\")\n",
    "    print(\"Duplicated data in \",name,\" >>>\")\n",
    "    print(data.duplicated().sum())\n",
    "    print(\"\\n---------------------------------------------------\\n\")\n",
    "    print(\"The count of null values in\",name,\" >>>\")\n",
    "    print(data.isnull().sum())\n",
    "    print(\"\\n---------------------------------------------------\\n\")\n",
    "    print(\"Unique values in\",name,\" >>>\")\n",
    "    print(data.nunique())\n",
    "    print(\"\\n---------------------------------------------------\\n\")"
   ]
  },
  {
   "cell_type": "markdown",
   "id": "d70e85ad",
   "metadata": {},
   "source": [
    "---------------------\n",
    "\n",
    "## Country Table"
   ]
  },
  {
   "cell_type": "code",
   "execution_count": 4,
   "id": "0dc15575",
   "metadata": {},
   "outputs": [
    {
     "name": "stdout",
     "output_type": "stream",
     "text": [
      "\n",
      "-----------------------------------------------------\n",
      "The table of>>> Country\n",
      "     id     name\n",
      "0     1  Belgium\n",
      "1  1729  England\n",
      "\n",
      "---------------------------------------------------\n",
      "\n",
      "Rows and columns>>>\n",
      "(11, 2)\n",
      "\n",
      "---------------------------------------------------\n",
      "\n",
      "Data types of the data>>>\n",
      "<class 'pandas.core.frame.DataFrame'>\n",
      "RangeIndex: 11 entries, 0 to 10\n",
      "Data columns (total 2 columns):\n",
      " #   Column  Non-Null Count  Dtype \n",
      "---  ------  --------------  ----- \n",
      " 0   id      11 non-null     int64 \n",
      " 1   name    11 non-null     object\n",
      "dtypes: int64(1), object(1)\n",
      "memory usage: 304.0+ bytes\n",
      "None\n",
      "\n",
      "---------------------------------------------------\n",
      "\n",
      "Duplicated data in  Country  >>>\n",
      "0\n",
      "\n",
      "---------------------------------------------------\n",
      "\n",
      "The count of null values in Country  >>>\n",
      "id      0\n",
      "name    0\n",
      "dtype: int64\n",
      "\n",
      "---------------------------------------------------\n",
      "\n",
      "Unique values in Country  >>>\n",
      "id      11\n",
      "name    11\n",
      "dtype: int64\n",
      "\n",
      "---------------------------------------------------\n",
      "\n"
     ]
    }
   ],
   "source": [
    "# get informations about Country \n",
    "get_info(df1_country,\"Country\")"
   ]
  },
  {
   "cell_type": "markdown",
   "id": "c2813a99",
   "metadata": {},
   "source": [
    "----------------------"
   ]
  },
  {
   "cell_type": "markdown",
   "id": "03cea56f",
   "metadata": {},
   "source": [
    "## League Table:"
   ]
  },
  {
   "cell_type": "code",
   "execution_count": 5,
   "id": "e0a9a85a",
   "metadata": {},
   "outputs": [
    {
     "name": "stdout",
     "output_type": "stream",
     "text": [
      "\n",
      "-----------------------------------------------------\n",
      "The table of>>> League\n",
      "     id  country_id                    name\n",
      "0     1           1  Belgium Jupiler League\n",
      "1  1729        1729  England Premier League\n",
      "\n",
      "---------------------------------------------------\n",
      "\n",
      "Rows and columns>>>\n",
      "(11, 3)\n",
      "\n",
      "---------------------------------------------------\n",
      "\n",
      "Data types of the data>>>\n",
      "<class 'pandas.core.frame.DataFrame'>\n",
      "RangeIndex: 11 entries, 0 to 10\n",
      "Data columns (total 3 columns):\n",
      " #   Column      Non-Null Count  Dtype \n",
      "---  ------      --------------  ----- \n",
      " 0   id          11 non-null     int64 \n",
      " 1   country_id  11 non-null     int64 \n",
      " 2   name        11 non-null     object\n",
      "dtypes: int64(2), object(1)\n",
      "memory usage: 392.0+ bytes\n",
      "None\n",
      "\n",
      "---------------------------------------------------\n",
      "\n",
      "Duplicated data in  League  >>>\n",
      "0\n",
      "\n",
      "---------------------------------------------------\n",
      "\n",
      "The count of null values in League  >>>\n",
      "id            0\n",
      "country_id    0\n",
      "name          0\n",
      "dtype: int64\n",
      "\n",
      "---------------------------------------------------\n",
      "\n",
      "Unique values in League  >>>\n",
      "id            11\n",
      "country_id    11\n",
      "name          11\n",
      "dtype: int64\n",
      "\n",
      "---------------------------------------------------\n",
      "\n"
     ]
    }
   ],
   "source": [
    "get_info(df2_league,\"League\")"
   ]
  },
  {
   "cell_type": "markdown",
   "id": "016725b1",
   "metadata": {},
   "source": [
    "----------------------\n",
    "\n",
    "## Match Table:"
   ]
  },
  {
   "cell_type": "code",
   "execution_count": 6,
   "id": "d27702c5",
   "metadata": {},
   "outputs": [
    {
     "name": "stdout",
     "output_type": "stream",
     "text": [
      "\n",
      "-----------------------------------------------------\n",
      "The table of>>> Match\n",
      "   id  country_id  league_id     season  stage                 date  \\\n",
      "0   1           1          1  2008/2009      1  2008-08-17 00:00:00   \n",
      "1   2           1          1  2008/2009      1  2008-08-16 00:00:00   \n",
      "\n",
      "   match_api_id  home_team_api_id  away_team_api_id  home_team_goal  ...  SJA  \\\n",
      "0        492473              9987              9993               1  ...  4.0   \n",
      "1        492474             10000              9994               0  ...  3.8   \n",
      "\n",
      "    VCH   VCD   VCA   GBH   GBD   GBA   BSH   BSD  BSA  \n",
      "0  1.65  3.40  4.50  1.78  3.25  4.00  1.73  3.40  4.2  \n",
      "1  2.00  3.25  3.25  1.85  3.25  3.75  1.91  3.25  3.6  \n",
      "\n",
      "[2 rows x 115 columns]\n",
      "\n",
      "---------------------------------------------------\n",
      "\n",
      "Rows and columns>>>\n",
      "(25979, 115)\n",
      "\n",
      "---------------------------------------------------\n",
      "\n",
      "Data types of the data>>>\n",
      "<class 'pandas.core.frame.DataFrame'>\n",
      "RangeIndex: 25979 entries, 0 to 25978\n",
      "Columns: 115 entries, id to BSA\n",
      "dtypes: float64(96), int64(9), object(10)\n",
      "memory usage: 22.8+ MB\n",
      "None\n",
      "\n",
      "---------------------------------------------------\n",
      "\n",
      "Duplicated data in  Match  >>>\n",
      "0\n",
      "\n",
      "---------------------------------------------------\n",
      "\n",
      "The count of null values in Match  >>>\n",
      "id                0\n",
      "country_id        0\n",
      "league_id         0\n",
      "season            0\n",
      "stage             0\n",
      "              ...  \n",
      "GBD           11817\n",
      "GBA           11817\n",
      "BSH           11818\n",
      "BSD           11818\n",
      "BSA           11818\n",
      "Length: 115, dtype: int64\n",
      "\n",
      "---------------------------------------------------\n",
      "\n",
      "Unique values in Match  >>>\n",
      "id            25979\n",
      "country_id       11\n",
      "league_id        11\n",
      "season            8\n",
      "stage            38\n",
      "              ...  \n",
      "GBD              84\n",
      "GBA             172\n",
      "BSH             101\n",
      "BSD              59\n",
      "BSA              96\n",
      "Length: 115, dtype: int64\n",
      "\n",
      "---------------------------------------------------\n",
      "\n"
     ]
    }
   ],
   "source": [
    "get_info(df3_match,\"Match\")"
   ]
  },
  {
   "cell_type": "markdown",
   "id": "064ae684",
   "metadata": {},
   "source": [
    "----------------------\n",
    "\n",
    "## Player Table:"
   ]
  },
  {
   "cell_type": "code",
   "execution_count": 7,
   "id": "5cbbc1aa",
   "metadata": {},
   "outputs": [
    {
     "name": "stdout",
     "output_type": "stream",
     "text": [
      "\n",
      "-----------------------------------------------------\n",
      "The table of>>> player\n",
      "   id  player_api_id         player_name  player_fifa_api_id  \\\n",
      "0   1         505942  Aaron Appindangoye              218353   \n",
      "1   2         155782     Aaron Cresswell              189615   \n",
      "\n",
      "              birthday  height  weight  \n",
      "0  1992-02-29 00:00:00  182.88     187  \n",
      "1  1989-12-15 00:00:00  170.18     146  \n",
      "\n",
      "---------------------------------------------------\n",
      "\n",
      "Rows and columns>>>\n",
      "(11060, 7)\n",
      "\n",
      "---------------------------------------------------\n",
      "\n",
      "Data types of the data>>>\n",
      "<class 'pandas.core.frame.DataFrame'>\n",
      "RangeIndex: 11060 entries, 0 to 11059\n",
      "Data columns (total 7 columns):\n",
      " #   Column              Non-Null Count  Dtype  \n",
      "---  ------              --------------  -----  \n",
      " 0   id                  11060 non-null  int64  \n",
      " 1   player_api_id       11060 non-null  int64  \n",
      " 2   player_name         11060 non-null  object \n",
      " 3   player_fifa_api_id  11060 non-null  int64  \n",
      " 4   birthday            11060 non-null  object \n",
      " 5   height              11060 non-null  float64\n",
      " 6   weight              11060 non-null  int64  \n",
      "dtypes: float64(1), int64(4), object(2)\n",
      "memory usage: 605.0+ KB\n",
      "None\n",
      "\n",
      "---------------------------------------------------\n",
      "\n",
      "Duplicated data in  player  >>>\n",
      "0\n",
      "\n",
      "---------------------------------------------------\n",
      "\n",
      "The count of null values in player  >>>\n",
      "id                    0\n",
      "player_api_id         0\n",
      "player_name           0\n",
      "player_fifa_api_id    0\n",
      "birthday              0\n",
      "height                0\n",
      "weight                0\n",
      "dtype: int64\n",
      "\n",
      "---------------------------------------------------\n",
      "\n",
      "Unique values in player  >>>\n",
      "id                    11060\n",
      "player_api_id         11060\n",
      "player_name           10848\n",
      "player_fifa_api_id    11060\n",
      "birthday               5762\n",
      "height                   20\n",
      "weight                   50\n",
      "dtype: int64\n",
      "\n",
      "---------------------------------------------------\n",
      "\n"
     ]
    }
   ],
   "source": [
    "get_info(df4_player,\"player\")"
   ]
  },
  {
   "cell_type": "markdown",
   "id": "6f7c2317",
   "metadata": {},
   "source": [
    "-------------------------\n",
    "\n",
    "## Player Attributes"
   ]
  },
  {
   "cell_type": "code",
   "execution_count": 8,
   "id": "54dc77cb",
   "metadata": {},
   "outputs": [
    {
     "name": "stdout",
     "output_type": "stream",
     "text": [
      "\n",
      "-----------------------------------------------------\n",
      "The table of>>> Player Attributes\n",
      "   id  player_fifa_api_id  player_api_id                 date  overall_rating  \\\n",
      "0   1              218353         505942  2016-02-18 00:00:00            67.0   \n",
      "1   2              218353         505942  2015-11-19 00:00:00            67.0   \n",
      "\n",
      "   potential preferred_foot attacking_work_rate defensive_work_rate  crossing  \\\n",
      "0       71.0          right              medium              medium      49.0   \n",
      "1       71.0          right              medium              medium      49.0   \n",
      "\n",
      "   ...  vision  penalties  marking  standing_tackle  sliding_tackle  \\\n",
      "0  ...    54.0       48.0     65.0             69.0            69.0   \n",
      "1  ...    54.0       48.0     65.0             69.0            69.0   \n",
      "\n",
      "   gk_diving  gk_handling  gk_kicking  gk_positioning  gk_reflexes  \n",
      "0        6.0         11.0        10.0             8.0          8.0  \n",
      "1        6.0         11.0        10.0             8.0          8.0  \n",
      "\n",
      "[2 rows x 42 columns]\n",
      "\n",
      "---------------------------------------------------\n",
      "\n",
      "Rows and columns>>>\n",
      "(183978, 42)\n",
      "\n",
      "---------------------------------------------------\n",
      "\n",
      "Data types of the data>>>\n",
      "<class 'pandas.core.frame.DataFrame'>\n",
      "RangeIndex: 183978 entries, 0 to 183977\n",
      "Data columns (total 42 columns):\n",
      " #   Column               Non-Null Count   Dtype  \n",
      "---  ------               --------------   -----  \n",
      " 0   id                   183978 non-null  int64  \n",
      " 1   player_fifa_api_id   183978 non-null  int64  \n",
      " 2   player_api_id        183978 non-null  int64  \n",
      " 3   date                 183978 non-null  object \n",
      " 4   overall_rating       183142 non-null  float64\n",
      " 5   potential            183142 non-null  float64\n",
      " 6   preferred_foot       183142 non-null  object \n",
      " 7   attacking_work_rate  180748 non-null  object \n",
      " 8   defensive_work_rate  183142 non-null  object \n",
      " 9   crossing             183142 non-null  float64\n",
      " 10  finishing            183142 non-null  float64\n",
      " 11  heading_accuracy     183142 non-null  float64\n",
      " 12  short_passing        183142 non-null  float64\n",
      " 13  volleys              181265 non-null  float64\n",
      " 14  dribbling            183142 non-null  float64\n",
      " 15  curve                181265 non-null  float64\n",
      " 16  free_kick_accuracy   183142 non-null  float64\n",
      " 17  long_passing         183142 non-null  float64\n",
      " 18  ball_control         183142 non-null  float64\n",
      " 19  acceleration         183142 non-null  float64\n",
      " 20  sprint_speed         183142 non-null  float64\n",
      " 21  agility              181265 non-null  float64\n",
      " 22  reactions            183142 non-null  float64\n",
      " 23  balance              181265 non-null  float64\n",
      " 24  shot_power           183142 non-null  float64\n",
      " 25  jumping              181265 non-null  float64\n",
      " 26  stamina              183142 non-null  float64\n",
      " 27  strength             183142 non-null  float64\n",
      " 28  long_shots           183142 non-null  float64\n",
      " 29  aggression           183142 non-null  float64\n",
      " 30  interceptions        183142 non-null  float64\n",
      " 31  positioning          183142 non-null  float64\n",
      " 32  vision               181265 non-null  float64\n",
      " 33  penalties            183142 non-null  float64\n",
      " 34  marking              183142 non-null  float64\n",
      " 35  standing_tackle      183142 non-null  float64\n",
      " 36  sliding_tackle       181265 non-null  float64\n",
      " 37  gk_diving            183142 non-null  float64\n",
      " 38  gk_handling          183142 non-null  float64\n",
      " 39  gk_kicking           183142 non-null  float64\n",
      " 40  gk_positioning       183142 non-null  float64\n",
      " 41  gk_reflexes          183142 non-null  float64\n",
      "dtypes: float64(35), int64(3), object(4)\n",
      "memory usage: 59.0+ MB\n",
      "None\n",
      "\n",
      "---------------------------------------------------\n",
      "\n",
      "Duplicated data in  Player Attributes  >>>\n",
      "0\n",
      "\n",
      "---------------------------------------------------\n",
      "\n",
      "The count of null values in Player Attributes  >>>\n",
      "id                        0\n",
      "player_fifa_api_id        0\n",
      "player_api_id             0\n",
      "date                      0\n",
      "overall_rating          836\n",
      "potential               836\n",
      "preferred_foot          836\n",
      "attacking_work_rate    3230\n",
      "defensive_work_rate     836\n",
      "crossing                836\n",
      "finishing               836\n",
      "heading_accuracy        836\n",
      "short_passing           836\n",
      "volleys                2713\n",
      "dribbling               836\n",
      "curve                  2713\n",
      "free_kick_accuracy      836\n",
      "long_passing            836\n",
      "ball_control            836\n",
      "acceleration            836\n",
      "sprint_speed            836\n",
      "agility                2713\n",
      "reactions               836\n",
      "balance                2713\n",
      "shot_power              836\n",
      "jumping                2713\n",
      "stamina                 836\n",
      "strength                836\n",
      "long_shots              836\n",
      "aggression              836\n",
      "interceptions           836\n",
      "positioning             836\n",
      "vision                 2713\n",
      "penalties               836\n",
      "marking                 836\n",
      "standing_tackle         836\n",
      "sliding_tackle         2713\n",
      "gk_diving               836\n",
      "gk_handling             836\n",
      "gk_kicking              836\n",
      "gk_positioning          836\n",
      "gk_reflexes             836\n",
      "dtype: int64\n",
      "\n",
      "---------------------------------------------------\n",
      "\n",
      "Unique values in Player Attributes  >>>\n",
      "id                     183978\n",
      "player_fifa_api_id      11062\n",
      "player_api_id           11060\n",
      "date                      197\n",
      "overall_rating             61\n",
      "potential                  56\n",
      "preferred_foot              2\n",
      "attacking_work_rate         8\n",
      "defensive_work_rate        19\n",
      "crossing                   95\n",
      "finishing                  97\n",
      "heading_accuracy           96\n",
      "short_passing              95\n",
      "volleys                    93\n",
      "dribbling                  97\n",
      "curve                      92\n",
      "free_kick_accuracy         97\n",
      "long_passing               95\n",
      "ball_control               93\n",
      "acceleration               86\n",
      "sprint_speed               85\n",
      "agility                    81\n",
      "reactions                  78\n",
      "balance                    81\n",
      "shot_power                 96\n",
      "jumping                    79\n",
      "stamina                    84\n",
      "strength                   82\n",
      "long_shots                 96\n",
      "aggression                 91\n",
      "interceptions              96\n",
      "positioning                95\n",
      "vision                     97\n",
      "penalties                  94\n",
      "marking                    95\n",
      "standing_tackle            95\n",
      "sliding_tackle             94\n",
      "gk_diving                  93\n",
      "gk_handling                90\n",
      "gk_kicking                 97\n",
      "gk_positioning             94\n",
      "gk_reflexes                92\n",
      "dtype: int64\n",
      "\n",
      "---------------------------------------------------\n",
      "\n"
     ]
    }
   ],
   "source": [
    "get_info(df5_player_att,\"Player Attributes\")"
   ]
  },
  {
   "cell_type": "markdown",
   "id": "a6bbd3f1",
   "metadata": {},
   "source": [
    "----------------------\n",
    "\n",
    "## Team Table:"
   ]
  },
  {
   "cell_type": "code",
   "execution_count": 9,
   "id": "d6690044",
   "metadata": {},
   "outputs": [
    {
     "name": "stdout",
     "output_type": "stream",
     "text": [
      "\n",
      "-----------------------------------------------------\n",
      "The table of>>> Team\n",
      "   id  team_api_id  team_fifa_api_id team_long_name team_short_name\n",
      "0   1         9987             673.0       KRC Genk             GEN\n",
      "1   2         9993             675.0   Beerschot AC             BAC\n",
      "\n",
      "---------------------------------------------------\n",
      "\n",
      "Rows and columns>>>\n",
      "(299, 5)\n",
      "\n",
      "---------------------------------------------------\n",
      "\n",
      "Data types of the data>>>\n",
      "<class 'pandas.core.frame.DataFrame'>\n",
      "RangeIndex: 299 entries, 0 to 298\n",
      "Data columns (total 5 columns):\n",
      " #   Column            Non-Null Count  Dtype  \n",
      "---  ------            --------------  -----  \n",
      " 0   id                299 non-null    int64  \n",
      " 1   team_api_id       299 non-null    int64  \n",
      " 2   team_fifa_api_id  288 non-null    float64\n",
      " 3   team_long_name    299 non-null    object \n",
      " 4   team_short_name   299 non-null    object \n",
      "dtypes: float64(1), int64(2), object(2)\n",
      "memory usage: 11.8+ KB\n",
      "None\n",
      "\n",
      "---------------------------------------------------\n",
      "\n",
      "Duplicated data in  Team  >>>\n",
      "0\n",
      "\n",
      "---------------------------------------------------\n",
      "\n",
      "The count of null values in Team  >>>\n",
      "id                   0\n",
      "team_api_id          0\n",
      "team_fifa_api_id    11\n",
      "team_long_name       0\n",
      "team_short_name      0\n",
      "dtype: int64\n",
      "\n",
      "---------------------------------------------------\n",
      "\n",
      "Unique values in Team  >>>\n",
      "id                  299\n",
      "team_api_id         299\n",
      "team_fifa_api_id    285\n",
      "team_long_name      296\n",
      "team_short_name     259\n",
      "dtype: int64\n",
      "\n",
      "---------------------------------------------------\n",
      "\n"
     ]
    }
   ],
   "source": [
    "get_info(df6_team,\"Team\")"
   ]
  },
  {
   "cell_type": "markdown",
   "id": "3b4f2f58",
   "metadata": {},
   "source": [
    "-------------------------\n",
    "\n",
    "## Team Attributes:"
   ]
  },
  {
   "cell_type": "code",
   "execution_count": 10,
   "id": "ffc115e5",
   "metadata": {},
   "outputs": [
    {
     "name": "stdout",
     "output_type": "stream",
     "text": [
      "\n",
      "-----------------------------------------------------\n",
      "The table of>>> Team Attributes\n",
      "   id  team_fifa_api_id  team_api_id                 date  buildUpPlaySpeed  \\\n",
      "0   1               434         9930  2010-02-22 00:00:00                60   \n",
      "1   2               434         9930  2014-09-19 00:00:00                52   \n",
      "\n",
      "  buildUpPlaySpeedClass  buildUpPlayDribbling buildUpPlayDribblingClass  \\\n",
      "0              Balanced                   NaN                    Little   \n",
      "1              Balanced                  48.0                    Normal   \n",
      "\n",
      "   buildUpPlayPassing buildUpPlayPassingClass  ... chanceCreationShooting  \\\n",
      "0                  50                   Mixed  ...                     55   \n",
      "1                  56                   Mixed  ...                     64   \n",
      "\n",
      "   chanceCreationShootingClass chanceCreationPositioningClass  \\\n",
      "0                       Normal                      Organised   \n",
      "1                       Normal                      Organised   \n",
      "\n",
      "   defencePressure defencePressureClass  defenceAggression  \\\n",
      "0               50               Medium                 55   \n",
      "1               47               Medium                 44   \n",
      "\n",
      "  defenceAggressionClass defenceTeamWidth  defenceTeamWidthClass  \\\n",
      "0                  Press               45                 Normal   \n",
      "1                  Press               54                 Normal   \n",
      "\n",
      "  defenceDefenderLineClass  \n",
      "0                    Cover  \n",
      "1                    Cover  \n",
      "\n",
      "[2 rows x 25 columns]\n",
      "\n",
      "---------------------------------------------------\n",
      "\n",
      "Rows and columns>>>\n",
      "(1458, 25)\n",
      "\n",
      "---------------------------------------------------\n",
      "\n",
      "Data types of the data>>>\n",
      "<class 'pandas.core.frame.DataFrame'>\n",
      "RangeIndex: 1458 entries, 0 to 1457\n",
      "Data columns (total 25 columns):\n",
      " #   Column                          Non-Null Count  Dtype  \n",
      "---  ------                          --------------  -----  \n",
      " 0   id                              1458 non-null   int64  \n",
      " 1   team_fifa_api_id                1458 non-null   int64  \n",
      " 2   team_api_id                     1458 non-null   int64  \n",
      " 3   date                            1458 non-null   object \n",
      " 4   buildUpPlaySpeed                1458 non-null   int64  \n",
      " 5   buildUpPlaySpeedClass           1458 non-null   object \n",
      " 6   buildUpPlayDribbling            489 non-null    float64\n",
      " 7   buildUpPlayDribblingClass       1458 non-null   object \n",
      " 8   buildUpPlayPassing              1458 non-null   int64  \n",
      " 9   buildUpPlayPassingClass         1458 non-null   object \n",
      " 10  buildUpPlayPositioningClass     1458 non-null   object \n",
      " 11  chanceCreationPassing           1458 non-null   int64  \n",
      " 12  chanceCreationPassingClass      1458 non-null   object \n",
      " 13  chanceCreationCrossing          1458 non-null   int64  \n",
      " 14  chanceCreationCrossingClass     1458 non-null   object \n",
      " 15  chanceCreationShooting          1458 non-null   int64  \n",
      " 16  chanceCreationShootingClass     1458 non-null   object \n",
      " 17  chanceCreationPositioningClass  1458 non-null   object \n",
      " 18  defencePressure                 1458 non-null   int64  \n",
      " 19  defencePressureClass            1458 non-null   object \n",
      " 20  defenceAggression               1458 non-null   int64  \n",
      " 21  defenceAggressionClass          1458 non-null   object \n",
      " 22  defenceTeamWidth                1458 non-null   int64  \n",
      " 23  defenceTeamWidthClass           1458 non-null   object \n",
      " 24  defenceDefenderLineClass        1458 non-null   object \n",
      "dtypes: float64(1), int64(11), object(13)\n",
      "memory usage: 284.9+ KB\n",
      "None\n",
      "\n",
      "---------------------------------------------------\n",
      "\n",
      "Duplicated data in  Team Attributes  >>>\n",
      "0\n",
      "\n",
      "---------------------------------------------------\n",
      "\n",
      "The count of null values in Team Attributes  >>>\n",
      "id                                  0\n",
      "team_fifa_api_id                    0\n",
      "team_api_id                         0\n",
      "date                                0\n",
      "buildUpPlaySpeed                    0\n",
      "buildUpPlaySpeedClass               0\n",
      "buildUpPlayDribbling              969\n",
      "buildUpPlayDribblingClass           0\n",
      "buildUpPlayPassing                  0\n",
      "buildUpPlayPassingClass             0\n",
      "buildUpPlayPositioningClass         0\n",
      "chanceCreationPassing               0\n",
      "chanceCreationPassingClass          0\n",
      "chanceCreationCrossing              0\n",
      "chanceCreationCrossingClass         0\n",
      "chanceCreationShooting              0\n",
      "chanceCreationShootingClass         0\n",
      "chanceCreationPositioningClass      0\n",
      "defencePressure                     0\n",
      "defencePressureClass                0\n",
      "defenceAggression                   0\n",
      "defenceAggressionClass              0\n",
      "defenceTeamWidth                    0\n",
      "defenceTeamWidthClass               0\n",
      "defenceDefenderLineClass            0\n",
      "dtype: int64\n",
      "\n",
      "---------------------------------------------------\n",
      "\n",
      "Unique values in Team Attributes  >>>\n",
      "id                                1458\n",
      "team_fifa_api_id                   285\n",
      "team_api_id                        288\n",
      "date                                 6\n",
      "buildUpPlaySpeed                    57\n",
      "buildUpPlaySpeedClass                3\n",
      "buildUpPlayDribbling                49\n",
      "buildUpPlayDribblingClass            3\n",
      "buildUpPlayPassing                  58\n",
      "buildUpPlayPassingClass              3\n",
      "buildUpPlayPositioningClass          2\n",
      "chanceCreationPassing               50\n",
      "chanceCreationPassingClass           3\n",
      "chanceCreationCrossing              56\n",
      "chanceCreationCrossingClass          3\n",
      "chanceCreationShooting              57\n",
      "chanceCreationShootingClass          3\n",
      "chanceCreationPositioningClass       2\n",
      "defencePressure                     48\n",
      "defencePressureClass                 3\n",
      "defenceAggression                   47\n",
      "defenceAggressionClass               3\n",
      "defenceTeamWidth                    43\n",
      "defenceTeamWidthClass                3\n",
      "defenceDefenderLineClass             2\n",
      "dtype: int64\n",
      "\n",
      "---------------------------------------------------\n",
      "\n"
     ]
    }
   ],
   "source": [
    "get_info(df7_team_att,\"Team Attributes\")"
   ]
  },
  {
   "cell_type": "markdown",
   "id": "663afff6",
   "metadata": {},
   "source": [
    "--------------------"
   ]
  },
  {
   "cell_type": "code",
   "execution_count": null,
   "id": "5df1175b",
   "metadata": {},
   "outputs": [],
   "source": []
  },
  {
   "cell_type": "code",
   "execution_count": null,
   "id": "cd1976b6",
   "metadata": {},
   "outputs": [],
   "source": []
  },
  {
   "cell_type": "code",
   "execution_count": null,
   "id": "d56624c4",
   "metadata": {},
   "outputs": [],
   "source": []
  },
  {
   "cell_type": "markdown",
   "id": "84bd3b96",
   "metadata": {},
   "source": [
    "--------------------"
   ]
  },
  {
   "cell_type": "markdown",
   "id": "d26e9f61",
   "metadata": {},
   "source": [
    "-----------------------------"
   ]
  },
  {
   "cell_type": "markdown",
   "id": "a6473d1b",
   "metadata": {},
   "source": [
    "<a id='wrangling'></a>\n",
    "## Data Wrangling\n",
    "\n",
    "##### In this section, I am going to \n",
    "- Delete unnecessary columns.\n",
    "- Rename Columns with good names.\n",
    "- Change the data type to the right data type.\n",
    "- Convert object time to be time.\n",
    "- Delete null values If it's small.\n",
    "- Fill null values with mean In some cases.\n"
   ]
  },
  {
   "cell_type": "markdown",
   "id": "2e13a596",
   "metadata": {},
   "source": [
    "## For the Country and League, we don't need to take any actions."
   ]
  },
  {
   "cell_type": "code",
   "execution_count": 11,
   "id": "1ab88b0e",
   "metadata": {},
   "outputs": [],
   "source": [
    "# Let's delete unnecessary columns from the match."
   ]
  },
  {
   "cell_type": "code",
   "execution_count": 12,
   "id": "e954eeef",
   "metadata": {
    "scrolled": true
   },
   "outputs": [],
   "source": [
    "col_to_remove = ['home_player_X1', 'stage', 'home_player_X2', 'home_player_X3', 'home_player_X4', 'home_player_X5', 'home_player_X6', 'home_player_X7', 'home_player_X8', 'home_player_X9', 'home_player_X10', 'home_player_X11', 'away_player_X1', 'away_player_X2', 'away_player_X3', 'away_player_X4', 'away_player_X5', 'away_player_X6', 'away_player_X7', 'away_player_X8', 'away_player_X9', 'away_player_X10', 'away_player_X11', 'home_player_Y1', 'home_player_Y2', 'home_player_Y3', 'home_player_Y4', 'home_player_Y5', 'home_player_Y6', 'home_player_Y7', 'home_player_Y8', 'home_player_Y9', 'home_player_Y10', 'home_player_Y11', 'away_player_Y1', 'away_player_Y2', 'away_player_Y3', 'away_player_Y4', 'away_player_Y5', 'away_player_Y6', 'away_player_Y7', 'away_player_Y8', 'away_player_Y9', 'away_player_Y10', 'away_player_Y11', 'home_player_1', 'home_player_2', 'home_player_3', 'home_player_4', 'home_player_5', 'home_player_6', 'home_player_7', 'home_player_8', 'home_player_9', 'home_player_10', 'home_player_11', 'away_player_1', 'away_player_2', 'away_player_3', 'away_player_4', 'away_player_5', 'away_player_6', 'away_player_7', 'away_player_8', 'away_player_9', 'away_player_10', 'away_player_11', 'B365H', 'B365D', 'B365A', 'BWH', 'BWD', 'BWA', 'IWH', 'IWD', 'IWA', 'LBH', 'LBD', 'LBA', 'PSH', 'PSD', 'PSA', 'WHH', 'WHD', 'WHA', 'SJH', 'SJD', 'SJA', 'VCH', 'VCD', 'VCA', 'GBH', 'GBD', 'GBA', 'BSH', 'BSD', 'BSA']"
   ]
  },
  {
   "cell_type": "code",
   "execution_count": 13,
   "id": "34cce4ee",
   "metadata": {},
   "outputs": [],
   "source": [
    "for col in col_to_remove:\n",
    "    df3_match.drop(col,inplace=True,axis=1)"
   ]
  },
  {
   "cell_type": "code",
   "execution_count": 14,
   "id": "f14ae996",
   "metadata": {
    "scrolled": true
   },
   "outputs": [
    {
     "name": "stdout",
     "output_type": "stream",
     "text": [
      "<class 'pandas.core.frame.DataFrame'>\n",
      "RangeIndex: 25979 entries, 0 to 25978\n",
      "Data columns (total 18 columns):\n",
      " #   Column            Non-Null Count  Dtype \n",
      "---  ------            --------------  ----- \n",
      " 0   id                25979 non-null  int64 \n",
      " 1   country_id        25979 non-null  int64 \n",
      " 2   league_id         25979 non-null  int64 \n",
      " 3   season            25979 non-null  object\n",
      " 4   date              25979 non-null  object\n",
      " 5   match_api_id      25979 non-null  int64 \n",
      " 6   home_team_api_id  25979 non-null  int64 \n",
      " 7   away_team_api_id  25979 non-null  int64 \n",
      " 8   home_team_goal    25979 non-null  int64 \n",
      " 9   away_team_goal    25979 non-null  int64 \n",
      " 10  goal              14217 non-null  object\n",
      " 11  shoton            14217 non-null  object\n",
      " 12  shotoff           14217 non-null  object\n",
      " 13  foulcommit        14217 non-null  object\n",
      " 14  card              14217 non-null  object\n",
      " 15  cross             14217 non-null  object\n",
      " 16  corner            14217 non-null  object\n",
      " 17  possession        14217 non-null  object\n",
      "dtypes: int64(8), object(10)\n",
      "memory usage: 3.6+ MB\n"
     ]
    }
   ],
   "source": [
    "# check for datatypes\n",
    "df3_match.info()"
   ]
  },
  {
   "cell_type": "code",
   "execution_count": 15,
   "id": "67fbd4c8",
   "metadata": {
    "scrolled": true
   },
   "outputs": [],
   "source": [
    "# convert string date to be date time\n",
    "df3_match['date'] = pd.to_datetime(df3_match['date'])"
   ]
  },
  {
   "cell_type": "code",
   "execution_count": 16,
   "id": "a036ac92",
   "metadata": {},
   "outputs": [],
   "source": [
    "# extract year,month,day from date columns and assign the values to new variables\n",
    "df3_match['year'] = df3_match['date'].dt.year\n",
    "df3_match['month']= df3_match['date'].dt.month_name()\n",
    "df3_match['day'] = df3_match['date'].dt.day_name()"
   ]
  },
  {
   "cell_type": "code",
   "execution_count": 17,
   "id": "62ab8c57",
   "metadata": {},
   "outputs": [],
   "source": [
    "# drope null values from match\n",
    "df3_match.dropna(inplace=True)"
   ]
  },
  {
   "cell_type": "code",
   "execution_count": 18,
   "id": "daa0f581",
   "metadata": {},
   "outputs": [],
   "source": [
    "# extract goals from goal cloumn\n",
    "df3_match['goal'] = df3_match['goal'].str.extract(\"(\\d)+\")"
   ]
  },
  {
   "cell_type": "code",
   "execution_count": 19,
   "id": "1d0571d2",
   "metadata": {},
   "outputs": [],
   "source": [
    "# drop null goals and convert goal to be numeric\n",
    "df3_match['goal'].dropna(inplace=True)"
   ]
  },
  {
   "cell_type": "code",
   "execution_count": 20,
   "id": "c3b548d0",
   "metadata": {},
   "outputs": [],
   "source": [
    "df3_match['goal'] = pd.to_numeric(df3_match['goal'])\n"
   ]
  },
  {
   "cell_type": "code",
   "execution_count": 21,
   "id": "ef85a3d4",
   "metadata": {},
   "outputs": [],
   "source": [
    "# fill na with 0 to be able to convert the goal column to int\n",
    "df3_match = df3_match.fillna(0)"
   ]
  },
  {
   "cell_type": "code",
   "execution_count": 22,
   "id": "d86871c8",
   "metadata": {},
   "outputs": [],
   "source": [
    "# let's convert goal to be numeric\n",
    "df3_match['goal'] = df3_match['goal'].astype(int)"
   ]
  },
  {
   "cell_type": "code",
   "execution_count": 23,
   "id": "d52f9f7d",
   "metadata": {},
   "outputs": [],
   "source": [
    "# delete col no necessary for my insights\n",
    "col_out = ['shoton', 'shotoff', 'foulcommit', 'card','cross', 'corner', 'possession']\n",
    "for col in col_out:\n",
    "    df3_match.drop(col,inplace=True,axis=1)\n"
   ]
  },
  {
   "cell_type": "markdown",
   "id": "e48638ef",
   "metadata": {},
   "source": [
    "------------------"
   ]
  },
  {
   "cell_type": "code",
   "execution_count": 24,
   "id": "020130b4",
   "metadata": {},
   "outputs": [],
   "source": [
    "# convert birthday to be date \n",
    "df4_player['birthday'] = pd.to_datetime(df4_player['birthday'])"
   ]
  },
  {
   "cell_type": "code",
   "execution_count": 25,
   "id": "fc99f2fd",
   "metadata": {},
   "outputs": [],
   "source": [
    "# extract year,month,day from birthday\n",
    "df4_player['year'] = df4_player['birthday'].dt.year\n",
    "df4_player['month']= df4_player['birthday'].dt.month_name()\n",
    "df4_player['day'] = df4_player['birthday'].dt.day_name()"
   ]
  },
  {
   "cell_type": "code",
   "execution_count": 26,
   "id": "844c72a3",
   "metadata": {},
   "outputs": [],
   "source": [
    "# build a new column that hold the age of a player I assume the last year was 2016\n",
    "df4_player['age'] = 2016 - df4_player['year']"
   ]
  },
  {
   "cell_type": "code",
   "execution_count": 27,
   "id": "6b7e9c53",
   "metadata": {},
   "outputs": [],
   "source": [
    "# convrt weight to be float\n",
    "df4_player['weight'] = df4_player['weight'].astype(float)"
   ]
  },
  {
   "cell_type": "markdown",
   "id": "de0def00",
   "metadata": {},
   "source": [
    "------------------"
   ]
  },
  {
   "cell_type": "code",
   "execution_count": 28,
   "id": "8f896e23",
   "metadata": {},
   "outputs": [],
   "source": [
    "# convert date from string to datetime in player attribute\n",
    "df5_player_att['date'] = pd.to_datetime(df5_player_att['date'])"
   ]
  },
  {
   "cell_type": "code",
   "execution_count": 29,
   "id": "c8f8aeeb",
   "metadata": {},
   "outputs": [],
   "source": [
    "# drop null values\n",
    "df5_player_att.dropna(inplace = True)"
   ]
  },
  {
   "cell_type": "code",
   "execution_count": 30,
   "id": "feebb04d",
   "metadata": {},
   "outputs": [],
   "source": [
    "# drop null team\n",
    "df6_team.dropna(inplace = True)"
   ]
  },
  {
   "cell_type": "code",
   "execution_count": 31,
   "id": "b179d16e",
   "metadata": {},
   "outputs": [],
   "source": [
    "# drop null values\n",
    "df7_team_att.dropna(inplace=True)"
   ]
  },
  {
   "cell_type": "markdown",
   "id": "5c2c2a50",
   "metadata": {},
   "source": [
    "-----------------------"
   ]
  },
  {
   "cell_type": "markdown",
   "id": "7f5fa92d",
   "metadata": {},
   "source": [
    "<a id='eda'></a>\n",
    "# Exploratory Data Analysis\n",
    "\n",
    "------------\n",
    "### A player from the Middle East wants to play in Europe.\n",
    "he wants to know how goals change over seasons, months and the percentage of goals \n",
    "in-home and away and distributions of ages, the relationship between height and weight.\n",
    "He thinks that the team he would join should be In ```England,Italy,Spain```\n",
    "#### Some question in his mind\n",
    "- Goals over seasons In each league.\n",
    "- Goals over months In each league.\n",
    "- Percentage of goals In home and away.\n",
    "- What Is the distributions of ages In all leagues.\n",
    "- Is there a relationship between height and weight.\n",
    "\n",
    "\n"
   ]
  },
  {
   "cell_type": "code",
   "execution_count": 32,
   "id": "6fc4bde1",
   "metadata": {
    "scrolled": true
   },
   "outputs": [
    {
     "data": {
      "text/html": [
       "<div>\n",
       "<style scoped>\n",
       "    .dataframe tbody tr th:only-of-type {\n",
       "        vertical-align: middle;\n",
       "    }\n",
       "\n",
       "    .dataframe tbody tr th {\n",
       "        vertical-align: top;\n",
       "    }\n",
       "\n",
       "    .dataframe thead th {\n",
       "        text-align: right;\n",
       "    }\n",
       "</style>\n",
       "<table border=\"1\" class=\"dataframe\">\n",
       "  <thead>\n",
       "    <tr style=\"text-align: right;\">\n",
       "      <th></th>\n",
       "      <th>id</th>\n",
       "      <th>country_id</th>\n",
       "      <th>name</th>\n",
       "    </tr>\n",
       "  </thead>\n",
       "  <tbody>\n",
       "    <tr>\n",
       "      <th>0</th>\n",
       "      <td>1</td>\n",
       "      <td>1</td>\n",
       "      <td>Belgium Jupiler League</td>\n",
       "    </tr>\n",
       "    <tr>\n",
       "      <th>1</th>\n",
       "      <td>1729</td>\n",
       "      <td>1729</td>\n",
       "      <td>England Premier League</td>\n",
       "    </tr>\n",
       "    <tr>\n",
       "      <th>2</th>\n",
       "      <td>4769</td>\n",
       "      <td>4769</td>\n",
       "      <td>France Ligue 1</td>\n",
       "    </tr>\n",
       "    <tr>\n",
       "      <th>3</th>\n",
       "      <td>7809</td>\n",
       "      <td>7809</td>\n",
       "      <td>Germany 1. Bundesliga</td>\n",
       "    </tr>\n",
       "    <tr>\n",
       "      <th>4</th>\n",
       "      <td>10257</td>\n",
       "      <td>10257</td>\n",
       "      <td>Italy Serie A</td>\n",
       "    </tr>\n",
       "    <tr>\n",
       "      <th>5</th>\n",
       "      <td>13274</td>\n",
       "      <td>13274</td>\n",
       "      <td>Netherlands Eredivisie</td>\n",
       "    </tr>\n",
       "    <tr>\n",
       "      <th>6</th>\n",
       "      <td>15722</td>\n",
       "      <td>15722</td>\n",
       "      <td>Poland Ekstraklasa</td>\n",
       "    </tr>\n",
       "    <tr>\n",
       "      <th>7</th>\n",
       "      <td>17642</td>\n",
       "      <td>17642</td>\n",
       "      <td>Portugal Liga ZON Sagres</td>\n",
       "    </tr>\n",
       "    <tr>\n",
       "      <th>8</th>\n",
       "      <td>19694</td>\n",
       "      <td>19694</td>\n",
       "      <td>Scotland Premier League</td>\n",
       "    </tr>\n",
       "    <tr>\n",
       "      <th>9</th>\n",
       "      <td>21518</td>\n",
       "      <td>21518</td>\n",
       "      <td>Spain LIGA BBVA</td>\n",
       "    </tr>\n",
       "  </tbody>\n",
       "</table>\n",
       "</div>"
      ],
      "text/plain": [
       "      id  country_id                      name\n",
       "0      1           1    Belgium Jupiler League\n",
       "1   1729        1729    England Premier League\n",
       "2   4769        4769            France Ligue 1\n",
       "3   7809        7809     Germany 1. Bundesliga\n",
       "4  10257       10257             Italy Serie A\n",
       "5  13274       13274    Netherlands Eredivisie\n",
       "6  15722       15722        Poland Ekstraklasa\n",
       "7  17642       17642  Portugal Liga ZON Sagres\n",
       "8  19694       19694   Scotland Premier League\n",
       "9  21518       21518           Spain LIGA BBVA"
      ]
     },
     "execution_count": 32,
     "metadata": {},
     "output_type": "execute_result"
    }
   ],
   "source": [
    "df2_league.head(10)"
   ]
  },
  {
   "cell_type": "code",
   "execution_count": 33,
   "id": "fc7376ad",
   "metadata": {},
   "outputs": [],
   "source": [
    "# making a 3 variables to assing the id for each league\n",
    "id_spain = 21518\n",
    "id_england = 1729\n",
    "id_italy = 10257"
   ]
  },
  {
   "cell_type": "code",
   "execution_count": 34,
   "id": "95085c6c",
   "metadata": {},
   "outputs": [],
   "source": [
    "# the 3 new data frames for spain, england, taly\n",
    "spain_df   = df3_match[df3_match['league_id'] == 21518]\n",
    "england_df = df3_match[df3_match['league_id'] == 1729]\n",
    "italy_df   = df3_match[df3_match['league_id'] == 10257] "
   ]
  },
  {
   "cell_type": "markdown",
   "id": "e87a0f46",
   "metadata": {},
   "source": [
    "### Goals over seasons"
   ]
  },
  {
   "cell_type": "code",
   "execution_count": 35,
   "id": "6e26c2ed",
   "metadata": {},
   "outputs": [],
   "source": [
    "# group each league by seasons and  goals\n",
    "E = england_df.groupby('season')['goal'].sum()\n",
    "I = italy_df.groupby('season')['goal'].sum()\n",
    "S = spain_df.groupby('season')['goal'].sum()"
   ]
  },
  {
   "cell_type": "code",
   "execution_count": 36,
   "id": "15993284",
   "metadata": {},
   "outputs": [],
   "source": [
    "goals_League = pd.DataFrame({\"England\":E,\"Italy\":I,\"Spain\":S})"
   ]
  },
  {
   "cell_type": "code",
   "execution_count": 53,
   "id": "5ef93702",
   "metadata": {
    "scrolled": false
   },
   "outputs": [],
   "source": [
    "def goal_over_season():\n",
    "    plt.rcParams['figure.figsize'] = [7, 5]\n",
    "    goals_League.plot()\n",
    "    plt.legend(loc=1)\n",
    "    plt.xlabel(\"Seasons\")\n",
    "    plt.ylabel(\"Goals\")\n",
    "    plt.title(\"Goals over seasons in (Premier , Seria A, La liga) Leagues\")\n",
    "    plt.xticks(rotation=60);\n"
   ]
  },
  {
   "cell_type": "code",
   "execution_count": 54,
   "id": "a7426749",
   "metadata": {},
   "outputs": [
    {
     "data": {
      "image/png": "[encoded data removed]",
      "text/plain": [
       "<Figure size 504x360 with 1 Axes>"
      ]
     },
     "metadata": {},
     "output_type": "display_data"
    }
   ],
   "source": [
    "# call the function goal over season\n",
    "goal_over_season()"
   ]
  },
  {
   "cell_type": "markdown",
   "id": "a496b5d7",
   "metadata": {},
   "source": [
    "- It seems that the curve goes down for the premier league from super attack to more defense.\n",
    "- The La Liga (Spain league) also goes down but in 2014/2015 becomes a dangerous attack```Ronaldo, Messi, Neymar, Griezmann``` on fire.\n",
    "- It seems that the (Italy series a  league )has hard defense from 2008 to 2014 but things change in 2014/2015.\n",
    "\n",
    "------------------"
   ]
  },
  {
   "cell_type": "markdown",
   "id": "a328add7",
   "metadata": {},
   "source": [
    "### Goals over Months"
   ]
  },
  {
   "cell_type": "code",
   "execution_count": 38,
   "id": "168c9c97",
   "metadata": {},
   "outputs": [],
   "source": [
    "# group each league by Months and  goals\n",
    "E = england_df.groupby('month')['goal'].sum()\n",
    "I = italy_df.groupby('month')['goal'].sum()\n",
    "S = spain_df.groupby('month')['goal'].sum()"
   ]
  },
  {
   "cell_type": "code",
   "execution_count": 39,
   "id": "302fa9dd",
   "metadata": {},
   "outputs": [],
   "source": [
    "goals_League = pd.DataFrame({\"England\":E,\"Italy\":I,\"Spain\":S})"
   ]
  },
  {
   "cell_type": "code",
   "execution_count": 55,
   "id": "e0a9daf0",
   "metadata": {
    "scrolled": false
   },
   "outputs": [],
   "source": [
    "def goal_over_months():\n",
    "    plt.rcParams['figure.figsize'] = [7, 5]\n",
    "    goals_League.plot()\n",
    "    plt.legend(loc=1)\n",
    "    plt.xlabel(\"Months\")\n",
    "    plt.ylabel(\"Goals\")\n",
    "    plt.title(\"Goals over Months in (Premier , Seria A, La liga) Leagues\")\n",
    "    plt.xticks(rotation=60);\n"
   ]
  },
  {
   "cell_type": "code",
   "execution_count": 56,
   "id": "35ff42d0",
   "metadata": {},
   "outputs": [
    {
     "data": {
      "image/png": "[encoded data removed]",
      "text/plain": [
       "<Figure size 504x360 with 1 Axes>"
      ]
     },
     "metadata": {},
     "output_type": "display_data"
    }
   ],
   "source": [
    "# call function goal over months\n",
    "goal_over_months()"
   ]
  },
  {
   "cell_type": "markdown",
   "id": "0c33882b",
   "metadata": {},
   "source": [
    "- It's clear that most goals in December all team want to end the year with winning.\n",
    "- Most leagues tend to be the same goals in january.\n",
    "\n",
    "-----------------"
   ]
  },
  {
   "cell_type": "markdown",
   "id": "f775953e",
   "metadata": {},
   "source": [
    "### Percentage of goals In home and away."
   ]
  },
  {
   "cell_type": "code",
   "execution_count": 41,
   "id": "ed72e698",
   "metadata": {},
   "outputs": [],
   "source": [
    "england_total = np.sum(england_df['home_team_goal'])+np.sum(england_df['away_team_goal'])\n",
    "england_home = round(np.sum(england_df['home_team_goal']) / england_total,2)\n",
    "england_away = round(np.sum(england_df['away_team_goal']) / england_total,2)"
   ]
  },
  {
   "cell_type": "code",
   "execution_count": 42,
   "id": "ed4e6dfd",
   "metadata": {},
   "outputs": [],
   "source": [
    "spain_total = np.sum(spain_df['home_team_goal'])+np.sum(spain_df['away_team_goal'])\n",
    "spain_home = round(np.sum(spain_df['home_team_goal']) / spain_total,2)\n",
    "spain_away = round(np.sum(spain_df['away_team_goal']) / spain_total,2)"
   ]
  },
  {
   "cell_type": "code",
   "execution_count": 43,
   "id": "e764ff38",
   "metadata": {},
   "outputs": [],
   "source": [
    "italy_total = np.sum(italy_df['home_team_goal'])+np.sum(italy_df['away_team_goal'])\n",
    "italy_home = round(np.sum(italy_df['home_team_goal']) / italy_total,2)\n",
    "italy_away = round(np.sum(italy_df['away_team_goal']) / italy_total,2)"
   ]
  },
  {
   "cell_type": "code",
   "execution_count": 57,
   "id": "05707060",
   "metadata": {},
   "outputs": [],
   "source": [
    "def home_away_goals():\n",
    "    X = [\"Premier League\" , \"Serie A\", \"LA LIGA\"]\n",
    "    home = [england_home,italy_home,spain_home]\n",
    "    away = [england_away,italy_away,spain_away]\n",
    "\n",
    "    X_axis = np.arange(len(X))\n",
    "\n",
    "    plt.bar(X_axis - 0.2, home, 0.4, label = 'Home')\n",
    "    plt.bar(X_axis + 0.2, away, 0.4, label = 'Away')\n",
    "\n",
    "    plt.xticks(X_axis, X)\n",
    "    plt.xlabel(\"League\")\n",
    "    plt.ylabel(\"Percentage OF Goals\")\n",
    "    plt.title(\"Goals Percentage In all Leagues\")\n",
    "    plt.legend()\n",
    "    plt.show()"
   ]
  },
  {
   "cell_type": "code",
   "execution_count": 58,
   "id": "8cbb2eb3",
   "metadata": {},
   "outputs": [
    {
     "data": {
      "image/png": "[encoded data removed]",
      "text/plain": [
       "<Figure size 504x360 with 1 Axes>"
      ]
     },
     "metadata": {},
     "output_type": "display_data"
    }
   ],
   "source": [
    "# percentage of goals in home and away\n",
    "home_away_goals()"
   ]
  },
  {
   "cell_type": "markdown",
   "id": "6ce56dc5",
   "metadata": {},
   "source": [
    "- The player should be fit enough in his home to score goals.\n",
    "- We can notice that the percentage of homes is approximately equal.\n",
    "\n",
    "-------------------"
   ]
  },
  {
   "cell_type": "markdown",
   "id": "8d7e55e6",
   "metadata": {},
   "source": [
    "### What Is the distributions of ages In all leagues."
   ]
  },
  {
   "cell_type": "code",
   "execution_count": 59,
   "id": "296a5246",
   "metadata": {},
   "outputs": [],
   "source": [
    "def age_dis():\n",
    "    fig, ax = plt.subplots(figsize =(8,6))\n",
    "    ax.hist(df4_player['age'], alpha=0.5, label='Ages',color=\"#F1C40F\")\n",
    "\n",
    "    ax.set_title('Distributions of Ages In All Leagues')\n",
    "    ax.set_xlabel('Ages')\n",
    "    ax.set_ylabel('Count')\n",
    "    ax.legend(loc='upper right')\n",
    "\n",
    "    plt.show();"
   ]
  },
  {
   "cell_type": "code",
   "execution_count": 60,
   "id": "79880243",
   "metadata": {},
   "outputs": [
    {
     "data": {
      "image/png": "[encoded data removed]",
      "text/plain": [
       "<Figure size 576x432 with 1 Axes>"
      ]
     },
     "metadata": {},
     "output_type": "display_data"
    }
   ],
   "source": [
    "# age distribtuions\n",
    "age_dis()"
   ]
  },
  {
   "cell_type": "markdown",
   "id": "9b2cb28c",
   "metadata": {},
   "source": [
    "- It's approximatlley normal most player falls in 25 and 35 Interval.\n",
    "\n",
    "----------------------"
   ]
  },
  {
   "cell_type": "markdown",
   "id": "2c5fd483",
   "metadata": {},
   "source": [
    "### Is there a relationship between pleayer height and weight."
   ]
  },
  {
   "cell_type": "code",
   "execution_count": 61,
   "id": "7fd06a6b",
   "metadata": {},
   "outputs": [],
   "source": [
    "def height_weight():\n",
    "    h = df4_player[['height']]\n",
    "    w = df4_player[['weight']]\n",
    "\n",
    "\n",
    "    plt.title(\"Height VS weight\",fontsize=16)\n",
    "    plt.xlabel(\"Height\",fontsize=15)\n",
    "    plt.ylabel(\"Weight\",fontsize=15)\n",
    "\n",
    "\n",
    "    plt.xlim(155,209)\n",
    "    plt.ylim(110,250)\n",
    "    plt.scatter(h,w,color = \"#CD5C5C\",s=100, alpha=.09);\n"
   ]
  },
  {
   "cell_type": "code",
   "execution_count": 62,
   "id": "091b3633",
   "metadata": {},
   "outputs": [
    {
     "data": {
      "image/png": "[encoded data removed]",
      "text/plain": [
       "<Figure size 504x360 with 1 Axes>"
      ]
     },
     "metadata": {},
     "output_type": "display_data"
    }
   ],
   "source": [
    "# relationship between height and weight\n",
    "height_weight()"
   ]
  },
  {
   "cell_type": "markdown",
   "id": "4534273b",
   "metadata": {},
   "source": [
    "- There's a strong relationship between height and weight.\n",
    "------------"
   ]
  },
  {
   "cell_type": "markdown",
   "id": "dedcd7a4",
   "metadata": {},
   "source": [
    "\n",
    "### Research Questions \n",
    "He wants to develop his skills and ability to be able to play In Europe.\n",
    "\n",
    "1. Is speed will help him to get more rating?\n",
    "1. What skills he needs to be able to join a good team?\n",
    "2. What team should he join based on what?\n"
   ]
  },
  {
   "cell_type": "markdown",
   "id": "c1e0ac6f",
   "metadata": {},
   "source": [
    "### What is the distributions of speed and rating?"
   ]
  },
  {
   "cell_type": "code",
   "execution_count": 63,
   "id": "32a3ca10",
   "metadata": {},
   "outputs": [],
   "source": [
    "def spe_rat():\n",
    "    fig, ax = plt.subplots(figsize =(8,6))\n",
    "    ax.hist(df5_player_att['sprint_speed'],  label='speed')\n",
    "    ax.hist(df5_player_att['overall_rating'], label='rating')\n",
    "    ax.set_title('Speed & Rating')\n",
    "    # ax.set_xlabel('Area')\n",
    "    ax.set_ylabel('Count')\n",
    "    ax.legend(loc='upper right')\n",
    "    plt.show();"
   ]
  },
  {
   "cell_type": "code",
   "execution_count": 64,
   "id": "8b82d3d5",
   "metadata": {},
   "outputs": [
    {
     "data": {
      "image/png": "[encoded data removed]",
      "text/plain": [
       "<Figure size 576x432 with 1 Axes>"
      ]
     },
     "metadata": {},
     "output_type": "display_data"
    }
   ],
   "source": [
    "# is more speed will make more rating\n",
    "spe_rat()"
   ]
  },
  {
   "cell_type": "markdown",
   "id": "0cdb7821",
   "metadata": {},
   "source": [
    "- It seems that both distributions fall in the same range.\n",
    "- The rating tends to be normally distributed.\n",
    "- Speed tends to be left-skewed.\n",
    "- The player should develop his speed to fall in 60:80 to get a higher rating.\n",
    "-----------------"
   ]
  },
  {
   "cell_type": "markdown",
   "id": "ee3909db",
   "metadata": {},
   "source": [
    "###  What skills he needs to be able to join a good team?\n",
    "\n",
    "To answer this question we should know the average for many attributes\n",
    "like ```finishing, dribbling, sprint_speed, acceleration,stamina```"
   ]
  },
  {
   "cell_type": "code",
   "execution_count": 48,
   "id": "eedc95b0",
   "metadata": {},
   "outputs": [],
   "source": [
    "avg_finish = int(np.mean(df5_player_att['finishing']))\n",
    "avg_dribbling = int(np.mean(df5_player_att['dribbling']))\n",
    "avg_speed = int(np.mean(df5_player_att['sprint_speed']))\n",
    "avg_accele = int(np.mean(df5_player_att['acceleration']))\n",
    "avg_stamina = int(np.mean(df5_player_att['stamina']))\n"
   ]
  },
  {
   "cell_type": "code",
   "execution_count": 65,
   "id": "eec6c6e8",
   "metadata": {
    "scrolled": true
   },
   "outputs": [],
   "source": [
    "def avg_attr():\n",
    "    plt.title(\"Average Attributes\",fontsize=16)\n",
    "    plt.xlabel(\"Attributes\",fontsize=15)\n",
    "    plt.ylabel(\"Avg\",fontsize=15)\n",
    "    plt.bar([\"Finish\", \"Dribbling\",\"Speed\",\"Acceleration\",\"Stamina\"], \n",
    "            [avg_finish,avg_dribbling,avg_speed,avg_accele,avg_stamina],\n",
    "            color =\"#58D68D\"\n",
    "\n",
    "           );"
   ]
  },
  {
   "cell_type": "code",
   "execution_count": 66,
   "id": "f7e18741",
   "metadata": {},
   "outputs": [
    {
     "data": {
      "image/png": "[encoded data removed]",
      "text/plain": [
       "<Figure size 504x360 with 1 Axes>"
      ]
     },
     "metadata": {},
     "output_type": "display_data"
    }
   ],
   "source": [
    "# average attributes\n",
    "avg_attr()"
   ]
  },
  {
   "cell_type": "markdown",
   "id": "2c7c270c",
   "metadata": {},
   "source": [
    "- The player should develop these attributes to be above them.\n",
    "- He also should work on his finish to be above 50 to work In a good team.\n",
    "- Speed and Acceleration are very important because the Europa League is faster than the Middle east league.\n",
    "\n",
    "---------------------"
   ]
  },
  {
   "cell_type": "markdown",
   "id": "8e394af4",
   "metadata": {},
   "source": [
    "### What team should he join based on what?\n",
    "\n",
    "he wants to choose from 3 leagues socially England, Italy, Spain he prefers to play on the Arsenal,Liverpool,Chelsea - Madrid,Barcelona,Atletico - Juventus,Roma,Milan"
   ]
  },
  {
   "cell_type": "code",
   "execution_count": 50,
   "id": "c30a3f80",
   "metadata": {
    "scrolled": false
   },
   "outputs": [
    {
     "data": {
      "text/html": [
       "<div>\n",
       "<style scoped>\n",
       "    .dataframe tbody tr th:only-of-type {\n",
       "        vertical-align: middle;\n",
       "    }\n",
       "\n",
       "    .dataframe tbody tr th {\n",
       "        vertical-align: top;\n",
       "    }\n",
       "\n",
       "    .dataframe thead th {\n",
       "        text-align: right;\n",
       "    }\n",
       "</style>\n",
       "<table border=\"1\" class=\"dataframe\">\n",
       "  <thead>\n",
       "    <tr style=\"text-align: right;\">\n",
       "      <th></th>\n",
       "      <th>id</th>\n",
       "      <th>team_api_id</th>\n",
       "      <th>team_fifa_api_id</th>\n",
       "      <th>team_long_name</th>\n",
       "      <th>team_short_name</th>\n",
       "    </tr>\n",
       "  </thead>\n",
       "  <tbody>\n",
       "    <tr>\n",
       "      <th>0</th>\n",
       "      <td>1</td>\n",
       "      <td>9987</td>\n",
       "      <td>673.0</td>\n",
       "      <td>KRC Genk</td>\n",
       "      <td>GEN</td>\n",
       "    </tr>\n",
       "  </tbody>\n",
       "</table>\n",
       "</div>"
      ],
      "text/plain": [
       "   id  team_api_id  team_fifa_api_id team_long_name team_short_name\n",
       "0   1         9987             673.0       KRC Genk             GEN"
      ]
     },
     "execution_count": 50,
     "metadata": {},
     "output_type": "execute_result"
    }
   ],
   "source": [
    "df6_team.head(1)"
   ]
  },
  {
   "cell_type": "code",
   "execution_count": 52,
   "id": "88666b7c",
   "metadata": {},
   "outputs": [
    {
     "data": {
      "text/html": [
       "<div>\n",
       "<style scoped>\n",
       "    .dataframe tbody tr th:only-of-type {\n",
       "        vertical-align: middle;\n",
       "    }\n",
       "\n",
       "    .dataframe tbody tr th {\n",
       "        vertical-align: top;\n",
       "    }\n",
       "\n",
       "    .dataframe thead th {\n",
       "        text-align: right;\n",
       "    }\n",
       "</style>\n",
       "<table border=\"1\" class=\"dataframe\">\n",
       "  <thead>\n",
       "    <tr style=\"text-align: right;\">\n",
       "      <th></th>\n",
       "      <th>id</th>\n",
       "      <th>team_api_id</th>\n",
       "      <th>team_fifa_api_id</th>\n",
       "      <th>team_long_name</th>\n",
       "      <th>team_short_name</th>\n",
       "    </tr>\n",
       "  </thead>\n",
       "  <tbody>\n",
       "    <tr>\n",
       "      <th>136</th>\n",
       "      <td>20525</td>\n",
       "      <td>8686</td>\n",
       "      <td>52.0</td>\n",
       "      <td>Roma</td>\n",
       "      <td>ROM</td>\n",
       "    </tr>\n",
       "  </tbody>\n",
       "</table>\n",
       "</div>"
      ],
      "text/plain": [
       "        id  team_api_id  team_fifa_api_id team_long_name team_short_name\n",
       "136  20525         8686              52.0           Roma             ROM"
      ]
     },
     "execution_count": 52,
     "metadata": {},
     "output_type": "execute_result"
    }
   ],
   "source": [
    "# I will subtract all id for those teams to filter attributes.\n",
    "df6_team[df6_team['team_long_name']=='Roma']"
   ]
  },
  {
   "cell_type": "code",
   "execution_count": null,
   "id": "3e4ba95a",
   "metadata": {},
   "outputs": [],
   "source": [
    "# I extract all id for those teams to compare each other\n",
    "arsenal_id   = 9825\n",
    "liverpool_id = 8650\n",
    "chelsea_id   = 8455\n",
    "\n",
    "barcelona_id = 8634\n",
    "realMadrid_id= 8633\n",
    "atlético_id  = 9906\n",
    "\n",
    "milan_id   = 8564\n",
    "juventus_id= 9885\n",
    "roma_id    = 8686\n"
   ]
  },
  {
   "cell_type": "code",
   "execution_count": 70,
   "id": "a2a9ed6e",
   "metadata": {},
   "outputs": [],
   "source": [
    "# get data for those teams\n",
    "data_arsenal = df7_team_att.query(\"team_api_id == 9825\")\n",
    "data_liverpool = df7_team_att.query(\"team_api_id == 8650\")\n",
    "data_chelsea = df7_team_att.query(\"team_api_id == 8455\")\n",
    "\n",
    "data_barcelona = df7_team_att.query(\"team_api_id == 8634\")\n",
    "data_madrid = df7_team_att.query(\"team_api_id == 8633\")\n",
    "data_atletico = df7_team_att.query(\"team_api_id == 9906\")\n",
    "\n",
    "data_milan = df7_team_att.query(\"team_api_id == 8564\")\n",
    "data_juventus = df7_team_att.query(\"team_api_id == 9885\")\n",
    "data_roma = df7_team_att.query(\"team_api_id == 8686\")"
   ]
  },
  {
   "cell_type": "code",
   "execution_count": 161,
   "id": "f8b1e4fe",
   "metadata": {},
   "outputs": [],
   "source": [
    "# average speed teams\n",
    "\n",
    "speed_ars = np.mean(data_arsenal['buildUpPlaySpeed'])\n",
    "speed_liv = np.mean(data_liverpool['buildUpPlaySpeed'])\n",
    "speed_che = np.mean(data_chelsea['buildUpPlaySpeed'])\n",
    "\n",
    "speed_bar = np.mean(data_barcelona['buildUpPlaySpeed'])\n",
    "speed_mad = np.mean(data_madrid['buildUpPlaySpeed'])\n",
    "speed_atl = np.mean(data_atletico['buildUpPlaySpeed'])\n",
    "\n",
    "speed_mil = np.mean(data_milan['buildUpPlaySpeed'])\n",
    "speed_juv = np.mean(data_juventus['buildUpPlaySpeed'])\n",
    "speed_rom = np.mean(data_roma['buildUpPlaySpeed'])"
   ]
  },
  {
   "cell_type": "markdown",
   "id": "d0be2c37",
   "metadata": {},
   "source": [
    "------------------------"
   ]
  },
  {
   "cell_type": "code",
   "execution_count": 162,
   "id": "9a3341c9",
   "metadata": {},
   "outputs": [],
   "source": [
    "def avg_buildSpeed():\n",
    "    plt.title(\"Average BuildUpPlaySpeed\",fontsize=16)\n",
    "    plt.xlabel(\"Teams\",fontsize=15)\n",
    "    plt.ylabel(\"Avg Speed\",fontsize=15)\n",
    "\n",
    "    teams_names     = ['Arsenal','Liverpool','Chelsea' ,'Madrid','Barcelona','Atletico' ,'Juventus','Roma','Milan']\n",
    "    teams_speed_avg = [speed_ars, speed_liv, speed_che, speed_mad, speed_bar, speed_atl, speed_juv, speed_rom,speed_mil]\n",
    "\n",
    "    plt.xticks(rotation=60);\n",
    "    plt.bar(teams_names, \n",
    "            teams_speed_avg,\n",
    "            color =\"#F39C12\"\n",
    "\n",
    "           );\n"
   ]
  },
  {
   "cell_type": "code",
   "execution_count": 163,
   "id": "be771a9f",
   "metadata": {
    "scrolled": false
   },
   "outputs": [
    {
     "data": {
      "image/png": "[encoded data removed]",
      "text/plain": [
       "<Figure size 504x360 with 1 Axes>"
      ]
     },
     "metadata": {},
     "output_type": "display_data"
    }
   ],
   "source": [
    "# average build speed\n",
    "avg_buildSpeed()"
   ]
  },
  {
   "cell_type": "markdown",
   "id": "6e65171a",
   "metadata": {},
   "source": [
    "- Based on speed England team tend to play with higher speed. \n",
    "- Spain league less speed because they tend to pass more.\n",
    "- Italian leagues differ from each other but Rome looks faster."
   ]
  },
  {
   "cell_type": "markdown",
   "id": "eca8be4a",
   "metadata": {},
   "source": [
    "---------------"
   ]
  },
  {
   "cell_type": "code",
   "execution_count": 120,
   "id": "dfe60324",
   "metadata": {},
   "outputs": [],
   "source": [
    "# average chanceCreationPassing \n",
    "chance_ars = np.mean(data_arsenal['chanceCreationPassing'])\n",
    "chance_liv = np.mean(data_liverpool['chanceCreationPassing'])\n",
    "chance_che = np.mean(data_chelsea['chanceCreationPassing'])\n",
    "\n",
    "chance_bar = np.mean(data_barcelona['chanceCreationPassing'])\n",
    "chance_mad = np.mean(data_madrid['chanceCreationPassing'])\n",
    "chance_atl = np.mean(data_atletico['chanceCreationPassing'])\n",
    "\n",
    "chance_mil = np.mean(data_milan['chanceCreationPassing'])\n",
    "chance_juv = np.mean(data_juventus['chanceCreationPassing'])\n",
    "chance_rom = np.mean(data_roma['chanceCreationPassing'])"
   ]
  },
  {
   "cell_type": "code",
   "execution_count": 133,
   "id": "8590a0c2",
   "metadata": {
    "scrolled": false
   },
   "outputs": [],
   "source": [
    "def avg_chance_passing():\n",
    "    plt.title(\"Average Chance Creation Passing\",fontsize=16)\n",
    "    plt.xlabel(\"Teams\",fontsize=14)\n",
    "    plt.ylabel(\"Avg Chances\",fontsize=14)\n",
    "\n",
    "    teams_names     = ['Arsenal','Liverpool','Chelsea' ,'Madrid','Barcelona','Atletico' ,'Juventus','Roma','Milan']\n",
    "    teams_speed_avg = [chance_ars, chance_liv, chance_che, chance_mad, chance_bar, chance_atl, chance_juv, chance_rom,chance_mil]\n",
    "\n",
    "    plt.xticks(rotation=60);\n",
    "    plt.bar(teams_names, \n",
    "            teams_speed_avg,\n",
    "            color =\"#A569BD\"\n",
    "\n",
    "           );\n"
   ]
  },
  {
   "cell_type": "code",
   "execution_count": 134,
   "id": "78cbdf06",
   "metadata": {
    "scrolled": false
   },
   "outputs": [
    {
     "data": {
      "image/png": "[encoded data removed]",
      "text/plain": [
       "<Figure size 504x360 with 1 Axes>"
      ]
     },
     "metadata": {},
     "output_type": "display_data"
    }
   ],
   "source": [
    "avg_chance_passing()"
   ]
  },
  {
   "cell_type": "markdown",
   "id": "76ccec62",
   "metadata": {},
   "source": [
    "- Italian teams make a lot of chances created by passing. \n",
    "- Also real Madrid tends to make more chances by passing."
   ]
  },
  {
   "cell_type": "code",
   "execution_count": 122,
   "id": "122ad409",
   "metadata": {},
   "outputs": [],
   "source": [
    "# average chance Creation Crossing \n",
    "cross_ars = np.mean(data_arsenal['chanceCreationCrossing'])\n",
    "cross_liv = np.mean(data_liverpool['chanceCreationCrossing'])\n",
    "cross_che = np.mean(data_chelsea['chanceCreationCrossing'])\n",
    "\n",
    "cross_bar = np.mean(data_barcelona['chanceCreationCrossing'])\n",
    "cross_mad = np.mean(data_madrid['chanceCreationCrossing'])\n",
    "cross_atl = np.mean(data_atletico['chanceCreationCrossing'])\n",
    "\n",
    "cross_mil = np.mean(data_milan['chanceCreationCrossing'])\n",
    "cross_juv = np.mean(data_juventus['chanceCreationCrossing'])\n",
    "cross_rom = np.mean(data_roma['chanceCreationCrossing'])"
   ]
  },
  {
   "cell_type": "code",
   "execution_count": 135,
   "id": "bff51478",
   "metadata": {},
   "outputs": [],
   "source": [
    "def avg_crossing():\n",
    "    plt.title(\"Average Chance Creation Crossing\",fontsize=16)\n",
    "    plt.xlabel(\"Teams\",fontsize=14)\n",
    "    plt.ylabel(\"Avg Chances\",fontsize=14)\n",
    "\n",
    "    teams_names     = ['Arsenal','Liverpool','Chelsea' ,'Madrid','Barcelona','Atletico' ,'Juventus','Roma','Milan']\n",
    "    teams_speed_avg = [cross_ars, cross_liv, cross_che, cross_mad, cross_bar, cross_atl, cross_juv, cross_rom,cross_mil]\n",
    "\n",
    "    plt.xticks(rotation=60);\n",
    "    plt.bar(teams_names, \n",
    "            teams_speed_avg,\n",
    "            color =\"#C0392B\"\n",
    "\n",
    "           );\n"
   ]
  },
  {
   "cell_type": "code",
   "execution_count": 136,
   "id": "265739d6",
   "metadata": {},
   "outputs": [
    {
     "data": {
      "image/png": "[encoded data removed]",
      "text/plain": [
       "<Figure size 504x360 with 1 Axes>"
      ]
     },
     "metadata": {},
     "output_type": "display_data"
    }
   ],
   "source": [
    "avg_crossing()"
   ]
  },
  {
   "cell_type": "markdown",
   "id": "4f80bbb7",
   "metadata": {},
   "source": [
    "- Rome and Atletico create more chances by crossing.\n",
    "- Arsenal and Juvenuts also making more chances by crossing.\n",
    "\n",
    "------------------------"
   ]
  },
  {
   "cell_type": "code",
   "execution_count": 172,
   "id": "4f6d00d5",
   "metadata": {},
   "outputs": [],
   "source": [
    "# average defencePressure\n",
    "cross_ars = np.mean(data_arsenal['defencePressure'])\n",
    "cross_liv = np.mean(data_liverpool['defencePressure'])\n",
    "cross_che = np.mean(data_chelsea['defencePressure'])\n",
    "\n",
    "cross_bar = np.mean(data_barcelona['defencePressure'])\n",
    "cross_mad = np.mean(data_madrid['defencePressure'])\n",
    "cross_atl = np.mean(data_atletico['defencePressure'])\n",
    "\n",
    "cross_mil = np.mean(data_milan['defencePressure'])\n",
    "cross_juv = np.mean(data_juventus['defencePressure'])\n",
    "cross_rom = np.mean(data_roma['defencePressure'])"
   ]
  },
  {
   "cell_type": "code",
   "execution_count": 177,
   "id": "a5a50188",
   "metadata": {},
   "outputs": [],
   "source": [
    "def avg_crossing():\n",
    "    plt.title(\"Average Defence Pressure\",fontsize=16)\n",
    "    plt.xlabel(\"Teams\",fontsize=14)\n",
    "    plt.ylabel(\"Avg Defence\",fontsize=14)\n",
    "\n",
    "    teams_names     = ['Arsenal','Liverpool','Chelsea' ,'Madrid','Barcelona','Atletico' ,'Juventus','Roma','Milan']\n",
    "    teams_speed_avg = [cross_ars, cross_liv, cross_che, cross_mad, cross_bar, cross_atl, cross_juv, cross_rom,cross_mil]\n",
    "\n",
    "    plt.xticks(rotation=60);\n",
    "    plt.bar(teams_names, \n",
    "            teams_speed_avg,\n",
    "            color =\"#5499C7\"\n",
    "\n",
    "           );\n"
   ]
  },
  {
   "cell_type": "code",
   "execution_count": 178,
   "id": "048fdc6e",
   "metadata": {
    "scrolled": false
   },
   "outputs": [
    {
     "data": {
      "image/png": "[encoded data removed]",
      "text/plain": [
       "<Figure size 504x360 with 1 Axes>"
      ]
     },
     "metadata": {},
     "output_type": "display_data"
    }
   ],
   "source": [
    "avg_crossing()"
   ]
  },
  {
   "cell_type": "markdown",
   "id": "c92ec67a",
   "metadata": {},
   "source": [
    "- Barcelona didn't give you any chance to play they have a higher pressues.\n",
    "- Milan comes second. \n",
    "- Arsenal,Liverpool and Atletico are approximately equal pressures."
   ]
  },
  {
   "cell_type": "markdown",
   "id": "03429cfa",
   "metadata": {},
   "source": [
    "------------------------------"
   ]
  },
  {
   "cell_type": "markdown",
   "id": "026a9512",
   "metadata": {},
   "source": [
    "<a id='conclusions'></a>\n",
    "## Conclusions\n",
    "\n",
    "\n",
    "> ## Results: Our data suggest that\n",
    "    1. The player should develop his speed to get more ratings.\n",
    "    2. He also should develop his skills in Accelerations and speed to be above 60 \n",
    "    to get a good chance to play in Europe.\n",
    "    3. His finishing, dribbling, and stamina should be above 50.\n",
    "    4. If the player is curious to play in a team that depends on speed \n",
    "    he should think in Liverpool, Chelsea, or Rome.\n",
    "    5. If he loves chances bypassing he should think in Madrid or Rome.\n",
    "    6. If he likes crossing so Atletico will be fit for him.\n",
    "    7. If he loves pressure, Barcelona is the best team in that.\n",
    "\n",
    "> ## Limitations: There are a couple of limitations with our teams:\n",
    "    1. I don't have enough in formations about the team like goals \n",
    "           per match, winning percentage, rating of the team, the rank of the team.\n",
    "    2. Also the data doesn't contain specific information for each player\n",
    "        like his goals his assist and more.\n",
    "    3. The statistics used here are descriptions statistics, not inferential,\n",
    "        meaning that we did not create any hypothesis testing.\n",
    "    4. Cannot show the relationship between the speed of the player and his goals.\n",
    "    5. Cannot show the correlation between team possession and winning i don't have enough information.\n",
    "\n"
   ]
  },
  {
   "cell_type": "code",
   "execution_count": null,
   "id": "2a3048df",
   "metadata": {},
   "outputs": [],
   "source": []
  },
  {
   "cell_type": "code",
   "execution_count": null,
   "id": "6c2bc2e4",
   "metadata": {},
   "outputs": [],
   "source": []
  },
  {
   "cell_type": "code",
   "execution_count": null,
   "id": "fb437aa4",
   "metadata": {},
   "outputs": [],
   "source": []
  }
 ],
 "metadata": {
  "kernelspec": {
   "display_name": "Python 3",
   "language": "python",
   "name": "python3"
  },
  "language_info": {
   "codemirror_mode": {
    "name": "ipython",
    "version": 3
   },
   "file_extension": ".py",
   "mimetype": "text/x-python",
   "name": "python",
   "nbconvert_exporter": "python",
   "pygments_lexer": "ipython3",
   "version": "3.8.8"
  }
 },
 "nbformat": 4,
 "nbformat_minor": 5
}
